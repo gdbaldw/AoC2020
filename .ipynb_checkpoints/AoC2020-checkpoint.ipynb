{
 "cells": [
  {
   "cell_type": "markdown",
   "metadata": {},
   "source": [
    "# Advent of Code 2020"
   ]
  },
  {
   "cell_type": "markdown",
   "metadata": {},
   "source": [
    "## Day 1"
   ]
  },
  {
   "cell_type": "code",
   "execution_count": 1,
   "metadata": {},
   "outputs": [
    {
     "name": "stdout",
     "output_type": "stream",
     "text": [
      "1003971\n"
     ]
    }
   ],
   "source": [
    "with open('input-1.txt') as f:\n",
    "    a = []\n",
    "    for i in (int(l) for l in f):\n",
    "        if 2020 - i in a:\n",
    "            break\n",
    "        a.append(i)\n",
    "    print(i * (2020 - i))"
   ]
  },
  {
   "cell_type": "code",
   "execution_count": 2,
   "metadata": {},
   "outputs": [
    {
     "name": "stdout",
     "output_type": "stream",
     "text": [
      "84035952\n"
     ]
    }
   ],
   "source": [
    "with open('input-1.txt') as f:\n",
    "    a = []\n",
    "    for i in (int(l) for l in f):\n",
    "        for n, j in enumerate(a):\n",
    "            if 2020 - i - j in a[n+1:]:\n",
    "                print(i * j * (2020 - i - j))\n",
    "        a.append(i)"
   ]
  },
  {
   "cell_type": "markdown",
   "metadata": {},
   "source": [
    "## Day 2"
   ]
  },
  {
   "cell_type": "code",
   "execution_count": 3,
   "metadata": {},
   "outputs": [
    {
     "data": {
      "text/plain": [
       "458"
      ]
     },
     "execution_count": 3,
     "metadata": {},
     "output_type": "execute_result"
    }
   ],
   "source": [
    "import re\n",
    "p = re.compile('(\\d*)\\-(\\d*)\\s(\\w): (\\w*)')\n",
    "def test(i, j, c, s):\n",
    "    return int(i) <= s.count(c) <= int(j)\n",
    "\n",
    "count = 0\n",
    "with open('input-2.txt') as f:\n",
    "    for r in f:\n",
    "        m = p.match(r)\n",
    "        if test(*(m.groups())):\n",
    "            count += 1\n",
    "count"
   ]
  },
  {
   "cell_type": "code",
   "execution_count": 4,
   "metadata": {},
   "outputs": [
    {
     "data": {
      "text/plain": [
       "342"
      ]
     },
     "execution_count": 4,
     "metadata": {},
     "output_type": "execute_result"
    }
   ],
   "source": [
    "import re\n",
    "p = re.compile('(\\d*)\\-(\\d*)\\s(\\w): (\\w*)')\n",
    "def test(i, j, c, s):\n",
    "    return (s[int(i)-1] == c) != (s[int(j)-1] == c) \n",
    "\n",
    "count = 0\n",
    "with open('input-2.txt') as f:\n",
    "    for r in f:\n",
    "        m = p.match(r)\n",
    "        if test(*(m.groups())):\n",
    "            count += 1\n",
    "count"
   ]
  },
  {
   "cell_type": "markdown",
   "metadata": {},
   "source": [
    "## Day 3"
   ]
  },
  {
   "cell_type": "code",
   "execution_count": 5,
   "metadata": {},
   "outputs": [
    {
     "data": {
      "text/plain": [
       "209"
      ]
     },
     "execution_count": 5,
     "metadata": {},
     "output_type": "execute_result"
    }
   ],
   "source": [
    "pos = -3\n",
    "count = 0\n",
    "with open('input-3.txt') as f:\n",
    "    for l in f:\n",
    "        pos = (pos + 3) % (len(l) - 1)\n",
    "        if l[pos] == '#':\n",
    "            count += 1\n",
    "count"
   ]
  },
  {
   "cell_type": "code",
   "execution_count": 6,
   "metadata": {},
   "outputs": [
    {
     "data": {
      "text/plain": [
       "1574890240"
      ]
     },
     "execution_count": 6,
     "metadata": {},
     "output_type": "execute_result"
    }
   ],
   "source": [
    "res = 1\n",
    "for inc in [1,3,5,7]:\n",
    "    count = 0\n",
    "    pos = - inc\n",
    "    with open('input-3.txt') as f:\n",
    "        for l in f:\n",
    "            pos = (pos + inc) % (len(l) - 1)\n",
    "            if l[pos] == '#':\n",
    "                count += 1\n",
    "    res *= count\n",
    "pos = -1\n",
    "count = 0\n",
    "with open('input-3.txt') as f:\n",
    "    b = True\n",
    "    for l in f:\n",
    "        if b:\n",
    "            pos = (pos + 1) % (len(l) - 1)\n",
    "            if l[pos] == '#':\n",
    "                count += 1\n",
    "        b = not b\n",
    "res * count"
   ]
  },
  {
   "cell_type": "markdown",
   "metadata": {},
   "source": [
    "## Day 4"
   ]
  },
  {
   "cell_type": "code",
   "execution_count": 7,
   "metadata": {},
   "outputs": [
    {
     "data": {
      "text/plain": [
       "219"
      ]
     },
     "execution_count": 7,
     "metadata": {},
     "output_type": "execute_result"
    }
   ],
   "source": [
    "s = set('byr iyr eyr hgt hcl ecl pid'.split())\n",
    "count = 0\n",
    "with open('input-4.txt') as f:\n",
    "    for r in f:\n",
    "        if r.isspace():\n",
    "            if not s:\n",
    "                count += 1\n",
    "            s = set('byr iyr eyr hgt hcl ecl pid'.split())\n",
    "        else:\n",
    "            for p in r.split():\n",
    "                a, b = p.split(':')\n",
    "                s.discard(a)\n",
    "if not s:\n",
    "    count += 1\n",
    "count"
   ]
  },
  {
   "cell_type": "code",
   "execution_count": 8,
   "metadata": {},
   "outputs": [
    {
     "data": {
      "text/plain": [
       "127"
      ]
     },
     "execution_count": 8,
     "metadata": {},
     "output_type": "execute_result"
    }
   ],
   "source": [
    "s = set('byr iyr eyr hgt hcl ecl pid'.split())\n",
    "count = 0\n",
    "with open('input-4.txt') as f:\n",
    "    for r in f:\n",
    "        if r.isspace():\n",
    "            if not s:\n",
    "                count += 1\n",
    "            s = set('byr iyr eyr hgt hcl ecl pid'.split())\n",
    "        else:\n",
    "            for p in r.split():\n",
    "                a, b = p.split(':')\n",
    "                if a == 'byr' and b.isdigit() and 1920 <= int(b) <= 2002:\n",
    "                    s.discard(a)\n",
    "                elif a == 'iyr' and b.isdigit() and 2010 <= int(b) <= 2020:\n",
    "                    s.discard(a)\n",
    "                elif a == 'eyr' and b.isdigit() and 2020 <= int(b) <= 2030:\n",
    "                    s.discard(a)\n",
    "                elif a == 'hgt' and b[:-2].isdigit() and (\n",
    "                    (b.endswith('cm') and (150 <= int(b[:-2])<= 193))\n",
    "                    or\n",
    "                    (b.endswith('in') and (59 <= int(b[:-2])<= 76))\n",
    "                ):\n",
    "                    s.discard(a)\n",
    "                elif a == 'hcl' and b.startswith('#') and (len(b) == 7) and b[1:].isalnum():\n",
    "                    s.discard(a)\n",
    "                elif a == 'ecl' and b in 'amb blu brn gry grn hzl oth'.split():\n",
    "                    s.discard(a)\n",
    "                elif a == 'pid' and (len(b) == 9) and b.isdigit():\n",
    "                    s.discard(a)\n",
    "if not s:\n",
    "    count += 1\n",
    "count"
   ]
  },
  {
   "cell_type": "markdown",
   "metadata": {},
   "source": [
    "## Day 5"
   ]
  },
  {
   "cell_type": "code",
   "execution_count": 9,
   "metadata": {},
   "outputs": [
    {
     "data": {
      "text/plain": [
       "965"
      ]
     },
     "execution_count": 9,
     "metadata": {},
     "output_type": "execute_result"
    }
   ],
   "source": [
    "seat_id = 0\n",
    "with open('input-5.txt') as f:\n",
    "    for r in f:\n",
    "        front, back = 0, 127\n",
    "        for c in r[:6]:\n",
    "            if c == 'F':\n",
    "                back = front + (back - front + 1) / 2 - 1\n",
    "            else:\n",
    "                front += (back - front + 1) / 2\n",
    "        row = front if r[6] == 'F' else back\n",
    "        left, right = 0, 7\n",
    "        for c in r[7:9]:\n",
    "            if c == 'L':\n",
    "                right = left + (right - left + 1) / 2 - 1\n",
    "            else:\n",
    "                left += (right - left + 1) / 2\n",
    "        seat = left if r[9] == 'L' else right\n",
    "        seat_id = max(seat_id, 8*row + seat)\n",
    "int(seat_id)"
   ]
  },
  {
   "cell_type": "code",
   "execution_count": 10,
   "metadata": {},
   "outputs": [
    {
     "data": {
      "text/plain": [
       "524"
      ]
     },
     "execution_count": 10,
     "metadata": {},
     "output_type": "execute_result"
    }
   ],
   "source": [
    "seat_ids = set()\n",
    "with open('input-5.txt') as f:\n",
    "    for r in f:\n",
    "        front, back = 0, 127\n",
    "        for c in r[:6]:\n",
    "            if c == 'F':\n",
    "                back = front + (back - front + 1) / 2 - 1\n",
    "            else:\n",
    "                front += (back - front + 1) / 2\n",
    "        row = front if r[6] == 'F' else back\n",
    "        left, right = 0, 7\n",
    "        for c in r[7:9]:\n",
    "            if c == 'L':\n",
    "                right = left + (right - left + 1) / 2 - 1\n",
    "            else:\n",
    "                left += (right - left + 1) / 2\n",
    "        seat = left if r[9] == 'L' else right\n",
    "        seat_ids.add(8*row + seat)\n",
    "seat_ids = sorted(seat_ids)\n",
    "offset = seat_ids[0]\n",
    "for i, v in enumerate(seat_ids):\n",
    "    if i + offset != v:\n",
    "        break\n",
    "int(v - 1)"
   ]
  },
  {
   "cell_type": "markdown",
   "metadata": {},
   "source": [
    "## Day 6"
   ]
  },
  {
   "cell_type": "code",
   "execution_count": 11,
   "metadata": {},
   "outputs": [
    {
     "data": {
      "text/plain": [
       "6382"
      ]
     },
     "execution_count": 11,
     "metadata": {},
     "output_type": "execute_result"
    }
   ],
   "source": [
    "with open('input-6.txt') as f:\n",
    "    total = 0\n",
    "    cs = set()\n",
    "    for l in f:\n",
    "        if l.isspace():\n",
    "            total += len(cs)\n",
    "            cs = set()\n",
    "        else:\n",
    "            cs |= set(l.strip('\\n'))\n",
    "    total += len(cs)\n",
    "total"
   ]
  },
  {
   "cell_type": "code",
   "execution_count": 12,
   "metadata": {},
   "outputs": [
    {
     "data": {
      "text/plain": [
       "3197"
      ]
     },
     "execution_count": 12,
     "metadata": {},
     "output_type": "execute_result"
    }
   ],
   "source": [
    "with open('input-6.txt') as f:\n",
    "    total = 0\n",
    "    begin = True\n",
    "    cs = set()\n",
    "    for l in f:\n",
    "        if begin:\n",
    "            cs = set(l.strip('\\n'))\n",
    "            begin = False\n",
    "        elif l.isspace():\n",
    "            total += len(cs)\n",
    "            begin = True\n",
    "        else:\n",
    "            cs &= set(l.strip('\\n'))\n",
    "    total += len(cs)\n",
    "total"
   ]
  },
  {
   "cell_type": "markdown",
   "metadata": {},
   "source": [
    "## Day 7"
   ]
  },
  {
   "cell_type": "code",
   "execution_count": 13,
   "metadata": {},
   "outputs": [
    {
     "data": {
      "text/plain": [
       "259"
      ]
     },
     "execution_count": 13,
     "metadata": {},
     "output_type": "execute_result"
    }
   ],
   "source": [
    "import re\n",
    "import networkx as nx\n",
    "\n",
    "p = re.compile('(\\d*) (.*) bags?\\.?$')\n",
    "G = nx.DiGraph()\n",
    "\n",
    "with open('input-7.txt') as f:\n",
    "    for l in f:\n",
    "        a, b = l.rstrip('\\n').rstrip('.').split(' bags contain ')\n",
    "        if b == 'no other bags':\n",
    "            G.add_node(a)\n",
    "        else:\n",
    "            for n, v in (p.match(v).groups() for v in b.split(', ')):\n",
    "                G.add_edge(a, v, weight=int(n))\n",
    "    count = 0\n",
    "    for v in (v for v in G.nodes() if v != 'shiny gold'):\n",
    "        try:\n",
    "            path = nx.dijkstra_path(G, v, 'shiny gold')\n",
    "            count += 1\n",
    "        except:\n",
    "            pass\n",
    "count"
   ]
  },
  {
   "cell_type": "code",
   "execution_count": 14,
   "metadata": {},
   "outputs": [
    {
     "data": {
      "text/plain": [
       "45018"
      ]
     },
     "execution_count": 14,
     "metadata": {},
     "output_type": "execute_result"
    }
   ],
   "source": [
    "count = 0\n",
    "s = [('shiny gold', 1),]\n",
    "while s:\n",
    "    a, n = s.pop()\n",
    "    for b in G.successors(a):\n",
    "        q = n * (G.get_edge_data(a, b)['weight'])\n",
    "        count += q\n",
    "        s.append((b, q))\n",
    "count"
   ]
  },
  {
   "cell_type": "markdown",
   "metadata": {},
   "source": [
    "## Day 8"
   ]
  },
  {
   "cell_type": "code",
   "execution_count": 15,
   "metadata": {},
   "outputs": [
    {
     "data": {
      "text/plain": [
       "1818"
      ]
     },
     "execution_count": 15,
     "metadata": {},
     "output_type": "execute_result"
    }
   ],
   "source": [
    "with open('input-8.txt') as f:\n",
    "    prog = [(a, int(b)) for a, b in (v.rstrip('\\n').split() for v in f)]\n",
    "ptr = accum = 0\n",
    "visits = set()\n",
    "acc = 0\n",
    "while ptr not in visits:\n",
    "    visits.add(ptr)\n",
    "    c, v = prog[ptr]\n",
    "    if c == 'acc':\n",
    "        acc += v\n",
    "    ptr += v if c == 'jmp' else 1\n",
    "acc"
   ]
  },
  {
   "cell_type": "code",
   "execution_count": 16,
   "metadata": {},
   "outputs": [
    {
     "name": "stdout",
     "output_type": "stream",
     "text": [
      "631\n"
     ]
    }
   ],
   "source": [
    "len_prog = len(prog)\n",
    "for t, r in ('nop jmp'.split(), 'jmp nop'.split()):\n",
    "    for i, (c, v) in enumerate(prog):\n",
    "        if c != t:\n",
    "            continue\n",
    "        prog1 = prog.copy()\n",
    "        prog1[i] = (r, v)\n",
    "        ptr = accum = 0\n",
    "        visits = set()\n",
    "        acc = 0\n",
    "        while ptr not in visits and ptr != len_prog:\n",
    "            visits.add(ptr)\n",
    "            c, v = prog1[ptr]\n",
    "            if c == 'acc':\n",
    "                acc += v\n",
    "            ptr += v if c == 'jmp' else 1\n",
    "        if ptr == len_prog:\n",
    "            print(acc)"
   ]
  },
  {
   "cell_type": "markdown",
   "metadata": {},
   "source": [
    "## Day 9"
   ]
  },
  {
   "cell_type": "code",
   "execution_count": 17,
   "metadata": {},
   "outputs": [
    {
     "data": {
      "text/plain": [
       "393911906"
      ]
     },
     "execution_count": 17,
     "metadata": {},
     "output_type": "execute_result"
    }
   ],
   "source": [
    "from collections import deque\n",
    "maxlen = 25\n",
    "q = deque([],maxlen)\n",
    "\n",
    "def valid(v):\n",
    "    for i, x in enumerate(q):\n",
    "        for y in list(q)[i+1:]:\n",
    "            if v == x + y:\n",
    "                return True\n",
    "    return False\n",
    "\n",
    "with open('input-9.txt') as f:\n",
    "    getnext = lambda: int(f.readline())\n",
    "    for _ in range(maxlen):\n",
    "        q.append(getnext())\n",
    "    v = getnext()\n",
    "    while valid(v):\n",
    "        q.append(v)\n",
    "        v = getnext()\n",
    "v"
   ]
  },
  {
   "cell_type": "code",
   "execution_count": 18,
   "metadata": {},
   "outputs": [
    {
     "data": {
      "text/plain": [
       "59341885"
      ]
     },
     "execution_count": 18,
     "metadata": {},
     "output_type": "execute_result"
    }
   ],
   "source": [
    "with open('input-9.txt') as f:\n",
    "    l = list(map(int, f.read().strip().split('\\n')))\n",
    "\n",
    "sum_x = None\n",
    "while l and sum_x != v:\n",
    "    l_iter = reversed(l)\n",
    "    sum_x = largest = smallest = next(l_iter)\n",
    "    def update():\n",
    "        global sum_x, largest, smallest\n",
    "        next_x = next(l_iter)\n",
    "        sum_x += next_x\n",
    "        smallest = min(smallest, next_x)\n",
    "        largest = max(largest, next_x)\n",
    "    update()\n",
    "    while sum_x < v:\n",
    "        update()\n",
    "    if v < sum_x:\n",
    "        l.pop()\n",
    "smallest + largest"
   ]
  },
  {
   "cell_type": "markdown",
   "metadata": {},
   "source": [
    "## Day 10"
   ]
  },
  {
   "cell_type": "code",
   "execution_count": 19,
   "metadata": {},
   "outputs": [
    {
     "data": {
      "text/plain": [
       "1836"
      ]
     },
     "execution_count": 19,
     "metadata": {},
     "output_type": "execute_result"
    }
   ],
   "source": [
    "with open('input-10.txt') as f:\n",
    "    l = sorted(map(int, f.read().strip().split('\\n')))\n",
    "difs = [b - a for a, b in zip(l, l[1:])]\n",
    "ones, threes = difs.count(1), difs.count(3)+1\n",
    "if l[0] == 1:\n",
    "    ones += 1\n",
    "elif l[0] == 3:\n",
    "    threes += 1\n",
    "ones * threes"
   ]
  },
  {
   "cell_type": "code",
   "execution_count": 20,
   "metadata": {},
   "outputs": [
    {
     "data": {
      "text/plain": [
       "43406276662336"
      ]
     },
     "execution_count": 20,
     "metadata": {},
     "output_type": "execute_result"
    }
   ],
   "source": [
    "with open('input-10.txt') as f:\n",
    "    nodes = [0] + sorted(map(int, f.read().strip().split('\\n')))\n",
    "    len_nodes = len(nodes)\n",
    "    q = [1] * len_nodes\n",
    "    for j in range(1, len_nodes):\n",
    "        q[j] = sum(\n",
    "            q[i]\n",
    "            for i in range(max(0, j - 3), j)\n",
    "            if nodes[j] - nodes[i] < 4\n",
    "        )\n",
    "q.pop()"
   ]
  },
  {
   "cell_type": "markdown",
   "metadata": {},
   "source": [
    "## Day 11"
   ]
  },
  {
   "cell_type": "code",
   "execution_count": 21,
   "metadata": {},
   "outputs": [
    {
     "data": {
      "text/plain": [
       "2324"
      ]
     },
     "execution_count": 21,
     "metadata": {},
     "output_type": "execute_result"
    }
   ],
   "source": [
    "with open('input-11.txt') as f:\n",
    "    d = {(i,j): False for i, r in enumerate(f) for j, c in enumerate(r) if c == 'L'}\n",
    "hold = None\n",
    "while d != hold:\n",
    "    hold = d\n",
    "    n = { (i, j): sum(\n",
    "        d[(ii, jj)]\n",
    "        for ii in range(i-1,i+2)\n",
    "        for jj in range(j-1,j+2)\n",
    "        if (ii, jj) != (i, j) and (ii, jj) in d\n",
    "    ) for i, j in d}\n",
    "    d = {k: (not v and n[k] == 0) | (v and n[k] < 4) for k, v in d.items()}\n",
    "sum(d.values())"
   ]
  },
  {
   "cell_type": "code",
   "execution_count": 22,
   "metadata": {},
   "outputs": [
    {
     "data": {
      "text/plain": [
       "2068"
      ]
     },
     "execution_count": 22,
     "metadata": {},
     "output_type": "execute_result"
    }
   ],
   "source": [
    "with open('input-11.txt') as f:\n",
    "    d = {(i,j): False for i, r in enumerate(f) for j, c in enumerate(r) if c == 'L'}\n",
    "\n",
    "N_i = 1 + max(i for (i, j) in d)\n",
    "N_j = 1 + max(j for (i, j) in d)\n",
    "spots = {k:[] for k in d}\n",
    "for k in d:\n",
    "    i, j = k\n",
    "    for ii in range(i+1, N_i):\n",
    "        if (ii, j) in d:\n",
    "            spots[k].append((ii,j))\n",
    "            break\n",
    "    for ii in range(i-1, -1, -1):\n",
    "        if (ii, j) in d:\n",
    "            spots[k].append((ii,j))\n",
    "            break\n",
    "    for jj in range(j+1, N_j):\n",
    "        if (i, jj) in d:\n",
    "            spots[k].append((i,jj))\n",
    "            break\n",
    "    for jj in range(j-1, -1, -1):\n",
    "        if (i, jj) in d:\n",
    "            spots[k].append((i,jj))\n",
    "            break\n",
    "    for ii, jj in zip(range(i+1, N_i), range(j+1, N_j)):\n",
    "        if (ii, jj) in d:\n",
    "            spots[k].append((ii,jj))\n",
    "            break\n",
    "    for ii, jj in zip(range(i-1, -1, -1), range(j+1, N_j)):\n",
    "        if (ii, jj) in d:\n",
    "            spots[k].append((ii,jj))\n",
    "            break\n",
    "    for ii, jj in zip(range(i+1, N_i), range(j-1, -1, -1)):\n",
    "        if (ii, jj) in d:\n",
    "            spots[k].append((ii,jj))\n",
    "            break\n",
    "    for ii, jj in zip(range(i-1, -1, -1), range(j-1, -1, -1)):\n",
    "        if (ii, jj) in d:\n",
    "            spots[k].append((ii,jj))\n",
    "            break\n",
    "\n",
    "hold = None\n",
    "while d != hold:\n",
    "    hold = d\n",
    "    n = {k: sum(d[kk] for kk in v) for k, v in spots.items()}\n",
    "    d = {k: (not v and n[k] == 0) | (v and n[k] < 5) for k, v in d.items()}\n",
    "sum(d.values())"
   ]
  },
  {
   "cell_type": "markdown",
   "metadata": {},
   "source": [
    "## Day 12"
   ]
  },
  {
   "cell_type": "code",
   "execution_count": 23,
   "metadata": {},
   "outputs": [
    {
     "data": {
      "text/plain": [
       "521"
      ]
     },
     "execution_count": 23,
     "metadata": {},
     "output_type": "execute_result"
    }
   ],
   "source": [
    "with open('input-12.txt') as f:\n",
    "    p = 0j\n",
    "    h = 1 + 0j\n",
    "    for v in f:\n",
    "        a, n = v[0], int(v[1:-1])\n",
    "        if a == 'N':\n",
    "            p += n*1j\n",
    "        elif a == 'S':\n",
    "            p -= n*1j\n",
    "        elif a == 'E':\n",
    "            p += n\n",
    "        elif a == 'W':\n",
    "            p -= n\n",
    "        elif a == 'L':\n",
    "            h *= 1j**(n/90)\n",
    "        elif a == 'R':\n",
    "            h *= 1j**(-n/90)\n",
    "        elif a == 'F':\n",
    "            p += n*h\n",
    "int(abs(p.real) + abs(p.imag))"
   ]
  },
  {
   "cell_type": "code",
   "execution_count": 24,
   "metadata": {},
   "outputs": [
    {
     "data": {
      "text/plain": [
       "22848"
      ]
     },
     "execution_count": 24,
     "metadata": {},
     "output_type": "execute_result"
    }
   ],
   "source": [
    "with open('input-12.txt') as f:\n",
    "    p = 0j\n",
    "    h = 1 + 0j\n",
    "    w = 10 + 1j\n",
    "    for v in f:\n",
    "        a, n = v[0], int(v[1:-1])\n",
    "        if a == 'N':\n",
    "            w += n*1j\n",
    "        elif a == 'S':\n",
    "            w -= n*1j\n",
    "        elif a == 'E':\n",
    "            w += n\n",
    "        elif a == 'W':\n",
    "            w -= n\n",
    "        elif a == 'L':\n",
    "            w *= 1j**(n/90)\n",
    "        elif a == 'R':\n",
    "            w *= 1j**(-n/90)\n",
    "        elif a == 'F':\n",
    "            p += n*w\n",
    "int(abs(p.real) + abs(p.imag))"
   ]
  },
  {
   "cell_type": "markdown",
   "metadata": {},
   "source": [
    "## Day 13"
   ]
  },
  {
   "cell_type": "code",
   "execution_count": 25,
   "metadata": {},
   "outputs": [
    {
     "data": {
      "text/plain": [
       "1915"
      ]
     },
     "execution_count": 25,
     "metadata": {},
     "output_type": "execute_result"
    }
   ],
   "source": [
    "with open('input-13.txt') as f:\n",
    "    t = int(f.readline().strip())\n",
    "    bus = [int(v) for v in f.readline().strip().split(',') if v != 'x']\n",
    "\n",
    "dt = [b - t % b for b in bus]\n",
    "min_dt = min(dt)\n",
    "i = dt.index(min_dt)\n",
    "bus[i] * min_dt"
   ]
  },
  {
   "cell_type": "code",
   "execution_count": 26,
   "metadata": {},
   "outputs": [
    {
     "data": {
      "text/plain": [
       "294354277694107"
      ]
     },
     "execution_count": 26,
     "metadata": {},
     "output_type": "execute_result"
    }
   ],
   "source": [
    "with open('input-13.txt') as f:\n",
    "    t = int(f.readline().strip())\n",
    "    bus = {int(v): -i % int(v) for i, v in enumerate(f.readline().strip().split(',')) if v != 'x'}\n",
    "\n",
    "N, d = 0, 1\n",
    "for k, v in bus.items():\n",
    "    while N % k != v:\n",
    "        N += d\n",
    "    d *= k\n",
    "N"
   ]
  },
  {
   "cell_type": "markdown",
   "metadata": {},
   "source": [
    "## Day 14"
   ]
  },
  {
   "cell_type": "code",
   "execution_count": 27,
   "metadata": {},
   "outputs": [
    {
     "data": {
      "text/plain": [
       "17028179706934"
      ]
     },
     "execution_count": 27,
     "metadata": {},
     "output_type": "execute_result"
    }
   ],
   "source": [
    "with open('input-14.txt') as f:\n",
    "    mem = dict()\n",
    "    for s in f:\n",
    "        a, b = s.strip().split(' = ')\n",
    "        if a == 'mask':\n",
    "            and_mask = int(b.replace('X','1'), 2)\n",
    "            or_mask = int(b.replace('X','0'), 2)\n",
    "        else:\n",
    "            p = int(a.lstrip('mem[').rstrip(']'))\n",
    "            mem[p] = (int(b) & and_mask) | or_mask\n",
    "sum(mem.values())"
   ]
  },
  {
   "cell_type": "code",
   "execution_count": 28,
   "metadata": {},
   "outputs": [
    {
     "data": {
      "text/plain": [
       "3683236147222"
      ]
     },
     "execution_count": 28,
     "metadata": {},
     "output_type": "execute_result"
    }
   ],
   "source": [
    "with open('input-14.txt') as f:\n",
    "    mem = dict()\n",
    "    for s in f:\n",
    "        a, b = s.strip().split(' = ')\n",
    "        if a == 'mask':\n",
    "            or_mask = int(b.replace('X','0'), 2)\n",
    "            masks, start = set([0]), 0\n",
    "            b = b[::-1]\n",
    "            while b[start:].count('X'):\n",
    "                index = b.index('X', start)\n",
    "                masks |= {mask | 2**index for mask in masks}\n",
    "                start = index + 1\n",
    "        else:\n",
    "            p = int(a.lstrip('mem[').rstrip(']')) | or_mask\n",
    "            for mask in masks:\n",
    "                mem[p | mask] = int(b)\n",
    "                mem[p ^ mask] = int(b)\n",
    "sum(mem.values())"
   ]
  },
  {
   "cell_type": "markdown",
   "metadata": {},
   "source": [
    "## Day 15"
   ]
  },
  {
   "cell_type": "code",
   "execution_count": 29,
   "metadata": {},
   "outputs": [
    {
     "data": {
      "text/plain": [
       "1294"
      ]
     },
     "execution_count": 29,
     "metadata": {},
     "output_type": "execute_result"
    }
   ],
   "source": [
    "l = [1,0,16,5,17,4]\n",
    "d = {v: i for i, v in enumerate(l[:-1])}\n",
    "p, v = len(l)-2, l[-1]\n",
    "while p < 2018:\n",
    "    v_next = p - d[v] + 1 if v in d else 0\n",
    "    p = d[v] = p + 1\n",
    "    v = v_next\n",
    "v"
   ]
  },
  {
   "cell_type": "code",
   "execution_count": 30,
   "metadata": {},
   "outputs": [
    {
     "data": {
      "text/plain": [
       "573522"
      ]
     },
     "execution_count": 30,
     "metadata": {},
     "output_type": "execute_result"
    }
   ],
   "source": [
    "l = [1,0,16,5,17,4]\n",
    "d = {v: i for i, v in enumerate(l[:-1])}\n",
    "p, v = len(l)-2, l[-1]\n",
    "while p < 30000000 - 2:\n",
    "    v_next = p - d[v] + 1 if v in d else 0\n",
    "    p = d[v] = p + 1\n",
    "    v = v_next\n",
    "v"
   ]
  },
  {
   "cell_type": "markdown",
   "metadata": {},
   "source": [
    "## Day 16"
   ]
  },
  {
   "cell_type": "code",
   "execution_count": 31,
   "metadata": {},
   "outputs": [
    {
     "data": {
      "text/plain": [
       "21081"
      ]
     },
     "execution_count": 31,
     "metadata": {},
     "output_type": "execute_result"
    }
   ],
   "source": [
    "import re\n",
    "\n",
    "p = re.compile('(.+): (\\d+)-(\\d+) or (\\d+)-(\\d+)')\n",
    "\n",
    "with open('input-16.txt') as f:\n",
    "    l = f.readline().strip()\n",
    "    fields = dict()\n",
    "    while l:\n",
    "        k, a, b, c, d = p.match(l).groups()\n",
    "        fields[k] = set(list(range(int(a), int(b)+1)) + list(range(int(c), int(d) + 1)))\n",
    "        l = f.readline().strip()\n",
    "    while l != 'your ticket:':\n",
    "        l = f.readline().strip()\n",
    "    l = f.readline().strip()\n",
    "    ticket = [int(v) for v in l.split(',')]\n",
    "    while l != 'nearby tickets:':\n",
    "        l = f.readline().strip()\n",
    "    near = tuple(tuple(int(v) for v in l.strip().split(',')) for l in f)\n",
    "all_v = set().union(*fields.values())\n",
    "sum(v for t in near for v in t if v not in all_v)"
   ]
  },
  {
   "cell_type": "code",
   "execution_count": 32,
   "metadata": {},
   "outputs": [
    {
     "data": {
      "text/plain": [
       "314360510573"
      ]
     },
     "execution_count": 32,
     "metadata": {},
     "output_type": "execute_result"
    }
   ],
   "source": [
    "valid = tuple(t for t in near if not sum(v not in all_v for v in t))\n",
    "cols = tuple(map(set, zip(*valid)))\n",
    "key = {k: {i for i, c in enumerate(cols) if c <= v} for k, v in fields.items()}\n",
    "while sum(1 < len(v) for v in key.values()):\n",
    "    singles = {k: v for k, v in key.items() if len(v) == 1}\n",
    "    for k, v in key.items():\n",
    "        if k not in singles:\n",
    "            key[k] -= set().union(*singles.values())\n",
    "res = 1\n",
    "for k, v in key.items():\n",
    "    if k.startswith('departure'):\n",
    "        res *= ticket[v.copy().pop()]\n",
    "res"
   ]
  },
  {
   "cell_type": "markdown",
   "metadata": {},
   "source": [
    "## Day 17"
   ]
  },
  {
   "cell_type": "code",
   "execution_count": 33,
   "metadata": {},
   "outputs": [
    {
     "data": {
      "text/plain": [
       "362"
      ]
     },
     "execution_count": 33,
     "metadata": {},
     "output_type": "execute_result"
    }
   ],
   "source": [
    "with open('input-17.txt') as f:\n",
    "    active = set()\n",
    "    for j, r in enumerate(f):\n",
    "        for i, c in enumerate(r.strip()):\n",
    "            if c == '#':\n",
    "                active.add((i,j,0))\n",
    "for _ in range(6):\n",
    "    neighbors = dict()\n",
    "    for i,j,k in active:\n",
    "        for ii in range(i-1, i+2):\n",
    "            for jj in range(j-1, j+2):\n",
    "                for kk in range(k-1, k+2):\n",
    "                    if not(i == ii and j == jj and k == kk):\n",
    "                        neighbors[(ii,jj,kk)] = neighbors.setdefault((ii,jj,kk),0) + 1\n",
    "    two = {k for k, v in neighbors.items() if v == 2}\n",
    "    three = {k for k, v in neighbors.items() if v == 3}\n",
    "    activate = three - active\n",
    "    active &= (two | three)\n",
    "    active |= activate\n",
    "len(active)"
   ]
  },
  {
   "cell_type": "code",
   "execution_count": 34,
   "metadata": {},
   "outputs": [
    {
     "data": {
      "text/plain": [
       "1980"
      ]
     },
     "execution_count": 34,
     "metadata": {},
     "output_type": "execute_result"
    }
   ],
   "source": [
    "with open('input-17.txt') as f:\n",
    "    active = set()\n",
    "    for j, r in enumerate(f):\n",
    "        for i, c in enumerate(r.strip()):\n",
    "            if c == '#':\n",
    "                active.add((i,j,0,0))\n",
    "for _ in range(6):\n",
    "    neighbors = dict()\n",
    "    for i,j,k,l in active:\n",
    "        for ii in range(i-1, i+2):\n",
    "            for jj in range(j-1, j+2):\n",
    "                for kk in range(k-1, k+2):\n",
    "                    for ll in range(l-1, l+2):\n",
    "                        if not(i == ii and j == jj and k == kk and l == ll):\n",
    "                            neighbors[(ii,jj,kk,ll)] = neighbors.setdefault((ii,jj,kk,ll),0) + 1\n",
    "    two = {k for k, v in neighbors.items() if v == 2}\n",
    "    three = {k for k, v in neighbors.items() if v == 3}\n",
    "    activate = three - active\n",
    "    active &= (two | three)\n",
    "    active |= activate\n",
    "len(active)"
   ]
  },
  {
   "cell_type": "markdown",
   "metadata": {},
   "source": [
    "## Day 18"
   ]
  },
  {
   "cell_type": "code",
   "execution_count": 35,
   "metadata": {},
   "outputs": [
    {
     "data": {
      "text/plain": [
       "12918250417632"
      ]
     },
     "execution_count": 35,
     "metadata": {},
     "output_type": "execute_result"
    }
   ],
   "source": [
    "def func(s):\n",
    "    m = 0\n",
    "    op = '+'\n",
    "    while s:\n",
    "        c = s.pop()\n",
    "        if c == ' ':\n",
    "            continue\n",
    "        elif c in '+*':\n",
    "            op = c\n",
    "        elif c == '(':\n",
    "            m = (m + func(s)) if op == '+' else (m * func(s))\n",
    "        elif c.isdigit():\n",
    "            m = (m + int(c)) if op == '+' else (m * int(c))\n",
    "        elif c == ')':\n",
    "            return m\n",
    "        else:\n",
    "            assert(False)\n",
    "    return m\n",
    "\n",
    "with open ('input-18.txt') as f:\n",
    "    res = sum(func(list(reversed(s.strip()))) for s in f)\n",
    "res"
   ]
  },
  {
   "cell_type": "code",
   "execution_count": 36,
   "metadata": {},
   "outputs": [
    {
     "data": {
      "text/plain": [
       "171259538712010"
      ]
     },
     "execution_count": 36,
     "metadata": {},
     "output_type": "execute_result"
    }
   ],
   "source": [
    "def func(s):\n",
    "    m = 0\n",
    "    while s:\n",
    "        c = s.pop()\n",
    "        if c == ' ':\n",
    "            continue\n",
    "        if c == '*':\n",
    "            return m * func(s)\n",
    "        elif c == '(':\n",
    "            m = m + func(s)\n",
    "        elif c.isdigit():\n",
    "            m = (m + int(c))\n",
    "        elif c == ')':\n",
    "            return m\n",
    "    return m\n",
    "\n",
    "with open ('input-18.txt') as f:\n",
    "    res = sum(func(list(reversed(s.strip()))) for s in f)\n",
    "res"
   ]
  },
  {
   "cell_type": "markdown",
   "metadata": {},
   "source": [
    "## Day 19"
   ]
  },
  {
   "cell_type": "code",
   "execution_count": 37,
   "metadata": {},
   "outputs": [
    {
     "data": {
      "text/plain": [
       "168"
      ]
     },
     "execution_count": 37,
     "metadata": {},
     "output_type": "execute_result"
    }
   ],
   "source": [
    "rule = dict()\n",
    "\n",
    "def match(m, p):\n",
    "    if not m or not p:\n",
    "        return not m and not p\n",
    "    r = p[-1]\n",
    "    p = p[:-1]\n",
    "    if type(r) is str:\n",
    "        if m.endswith(r):\n",
    "            return match(m[:-1], p)\n",
    "    else:\n",
    "        for v in rule[r]:\n",
    "            if match(m, p + tuple(v)):\n",
    "                return True\n",
    "    return False\n",
    "\n",
    "with open('input-19.txt') as f:\n",
    "    count = 0\n",
    "    for l in f:\n",
    "        if ':' in l:\n",
    "            left, right = l.strip().split(':')\n",
    "            rule[int(left)] = tuple(right.strip(' \"'), ) if '\"' in right else tuple(\n",
    "                tuple(int(c) for c in v.split()) for v in right.split('|')\n",
    "            )\n",
    "        else:\n",
    "            count += match(l.strip(), rule[0][0])\n",
    "count"
   ]
  },
  {
   "cell_type": "code",
   "execution_count": 38,
   "metadata": {},
   "outputs": [
    {
     "data": {
      "text/plain": [
       "277"
      ]
     },
     "execution_count": 38,
     "metadata": {},
     "output_type": "execute_result"
    }
   ],
   "source": [
    "rule = dict()\n",
    "\n",
    "def match(m, p):\n",
    "    if not m or not p:\n",
    "        return not m and not p\n",
    "    if len(m) < len(p):\n",
    "        return False\n",
    "    r = p[-1]\n",
    "    p = p[:-1]\n",
    "    if type(r) is str:\n",
    "        if m.endswith(r):\n",
    "            return match(m[:-1], p)\n",
    "    else:\n",
    "        for v in rule[r]:\n",
    "            if match(m, p + tuple(v)):\n",
    "                return True\n",
    "    return False\n",
    "\n",
    "with open('input-19.txt') as f:\n",
    "    count = 0\n",
    "    for l in f:\n",
    "        if ':' in l:\n",
    "            left, right = l.strip().split(':')\n",
    "            rule[int(left)] = tuple(right.strip(' \"'), ) if '\"' in right else tuple(\n",
    "                tuple(int(c) for c in v.split()) for v in right.split('|')\n",
    "            )\n",
    "        else:\n",
    "            break\n",
    "    rule[8] = ((42, ), (42, 8))\n",
    "    rule[11] = ((42, 31), (42, 11, 31))\n",
    "    for l in f:\n",
    "        count += match(l.strip(), rule[0][0])\n",
    "count"
   ]
  },
  {
   "cell_type": "markdown",
   "metadata": {},
   "source": [
    "## Day 20"
   ]
  },
  {
   "cell_type": "code",
   "execution_count": 39,
   "metadata": {},
   "outputs": [
    {
     "data": {
      "text/plain": [
       "29125888761511"
      ]
     },
     "execution_count": 39,
     "metadata": {},
     "output_type": "execute_result"
    }
   ],
   "source": [
    "edge = {}\n",
    "\n",
    "def solve(N, group, solution=[]):\n",
    "    n = len(solution)\n",
    "    if n == N*N:\n",
    "        return tuple(solution)\n",
    "    top = ''.join(reversed(edge[solution[n - N]][2])) if 0 <= n - N else ''\n",
    "    left = ''.join(reversed(edge[solution[-1]][1])) if n and n % N else ''\n",
    "    for k, v in group.items():\n",
    "        for kk in v:\n",
    "            e = edge[kk]\n",
    "            if top in ('', e[0]) and left in ('', e[3]):\n",
    "                g = group.copy()\n",
    "                del g[k]\n",
    "                res = solve(N, g, solution + [kk])\n",
    "                if res:\n",
    "                    return res\n",
    "\n",
    "with open('input-20.txt') as f:\n",
    "    tile = {}\n",
    "    s = f.readline()\n",
    "    while s.startswith('Tile'):\n",
    "        k = int(s.strip('Tile :\\n'))\n",
    "        tile[k] = tuple(f.readline().strip() for _ in range(10))\n",
    "        f.readline()\n",
    "        s = f.readline()\n",
    "    group = {}\n",
    "    for k, v in tile.items():\n",
    "        top = v[0]\n",
    "        right = ''.join(r[-1] for r in v)\n",
    "        bottom = ''.join(reversed(v[-1]))\n",
    "        left = ''.join(r[0] for r in reversed(v))\n",
    "        edge[(k, False, 0)] = (top, right, bottom, left)\n",
    "        edge[(k, True, 0)] = tuple(''.join(reversed(r)) for r in (top, left, bottom, right))\n",
    "        for i in range(1,4):\n",
    "            for t in (True, False):\n",
    "                edge[(k, t, i)] = edge[(k, t, i-1)][1:] + edge[(k, t, i-1)][:1]\n",
    "        group[k] = tuple((k, t, i) for t in (True, False) for i in range(4))\n",
    "\n",
    "N = int(len(tile)**0.5)\n",
    "solution = solve(N, group.copy())\n",
    "corners = (solution[i][0] for i in (0, N-1, -N, -1))\n",
    "prod = 1\n",
    "for v in corners:\n",
    "    prod *= v\n",
    "prod"
   ]
  },
  {
   "cell_type": "code",
   "execution_count": 40,
   "metadata": {},
   "outputs": [
    {
     "data": {
      "text/plain": [
       "2219"
      ]
     },
     "execution_count": 40,
     "metadata": {},
     "output_type": "execute_result"
    }
   ],
   "source": [
    "monster = \"\"\"                  # \n",
    "#    ##    ##    ###\n",
    " #  #  #  #  #  #   \"\"\".split('\\n')\n",
    "\n",
    "mod = tile.copy()\n",
    "for k, invert, rotate in solution:\n",
    "    if invert:\n",
    "        mod[k] = tuple(''.join(reversed(r)) for r in mod[k])\n",
    "    for _ in range(rotate):\n",
    "        mod[k] = tuple(''.join(reversed(r)) for r in mod[k])\n",
    "        mod[k] = tuple(''.join(v) for v in zip(*mod[k]))\n",
    "image = []\n",
    "for i in range(0, N*N, N):\n",
    "    for r in range(1,9):\n",
    "        image.append(''.join(c for k, _, _ in solution[i:i+N] for c in mod[k][r][1:9]))\n",
    "len_image = len(image)\n",
    "pad = len_image - len(monster[0])\n",
    "pattern = int(''.join('1' if c == '#' else '0' for r in monster for c in pad*' ' + r), 2)\n",
    "match = 0\n",
    "for _ in range(2):\n",
    "    image = tuple(''.join(reversed(r)) for r in image)\n",
    "    for _ in range(4):\n",
    "        image = tuple(''.join(reversed(r)) for r in image)\n",
    "        image = tuple(''.join(v) for v in zip(*image))\n",
    "        for i in range(len_image - 2):\n",
    "            m = int(''.join('1' if c == '#' else '0' for r in image[i:i+3] for c in r), 2)\n",
    "            for j in range(pad):\n",
    "                if m == m | (pattern << j):\n",
    "                    match += 1\n",
    "''.join(image).count('#') - match * ''.join(monster).count('#')"
   ]
  },
  {
   "cell_type": "markdown",
   "metadata": {},
   "source": [
    "## Day 21"
   ]
  },
  {
   "cell_type": "code",
   "execution_count": 41,
   "metadata": {},
   "outputs": [
    {
     "data": {
      "text/plain": [
       "2493"
      ]
     },
     "execution_count": 41,
     "metadata": {},
     "output_type": "execute_result"
    }
   ],
   "source": [
    "with open('input-21.txt') as f:\n",
    "    allergen = dict()\n",
    "    ingredient = list()\n",
    "    for l in f:\n",
    "        a, b = l.strip('\\n)').split(' (contains ')\n",
    "        v = [w for w in a.split()]\n",
    "        ingredient += v\n",
    "        for k in b.split(', '):\n",
    "            allergen[k] = allergen.setdefault(k,set(v)) & set(v)\n",
    "while 1 < max(len(v) for v in allergen.values()):\n",
    "    for v in allergen.values():\n",
    "        if len(v) == 1:\n",
    "            for vv in allergen.values():\n",
    "                if vv != v:\n",
    "                    vv -= v\n",
    "allergen_values = set().union(*allergen.values())\n",
    "len([v for v in ingredient if v not in allergen_values])"
   ]
  },
  {
   "cell_type": "code",
   "execution_count": 42,
   "metadata": {},
   "outputs": [
    {
     "data": {
      "text/plain": [
       "'kqv,jxx,zzt,dklgl,pmvfzk,tsnkknk,qdlpbt,tlgrhdh'"
      ]
     },
     "execution_count": 42,
     "metadata": {},
     "output_type": "execute_result"
    }
   ],
   "source": [
    "','.join(allergen[k].copy().pop() for k in sorted(allergen))"
   ]
  },
  {
   "cell_type": "markdown",
   "metadata": {},
   "source": [
    "## Day 22"
   ]
  },
  {
   "cell_type": "code",
   "execution_count": 43,
   "metadata": {},
   "outputs": [
    {
     "data": {
      "text/plain": [
       "32472"
      ]
     },
     "execution_count": 43,
     "metadata": {},
     "output_type": "execute_result"
    }
   ],
   "source": [
    "from collections import deque\n",
    "\n",
    "with open ('input-22.txt') as f:\n",
    "    P1, P2 = deque(), deque()\n",
    "    assert(f.readline().strip() == 'Player 1:')\n",
    "    l = f.readline().strip()\n",
    "    while l:\n",
    "        P1.appendleft(int(l))\n",
    "        l = f.readline().strip()\n",
    "    assert(f.readline().strip() == 'Player 2:')\n",
    "    l = f.readline().strip()\n",
    "    while l:\n",
    "        P2.appendleft(int(l))\n",
    "        l = f.readline().strip()\n",
    "    while P1 and P2:\n",
    "        assert(P1[-1] != P2[-1])\n",
    "        if P1[-1] < P2[-1]:\n",
    "            P2.rotate()\n",
    "            P2.appendleft(P1.pop())\n",
    "        else:\n",
    "            P1.rotate()\n",
    "            P1.appendleft(P2.pop())\n",
    "N = len(P1) + len(P2)\n",
    "sum((i+1)*v for v, i in zip(P1 if P1 else P2, range(N)))"
   ]
  },
  {
   "cell_type": "code",
   "execution_count": 44,
   "metadata": {},
   "outputs": [
    {
     "data": {
      "text/plain": [
       "36463"
      ]
     },
     "execution_count": 44,
     "metadata": {},
     "output_type": "execute_result"
    }
   ],
   "source": [
    "from collections import deque\n",
    "\n",
    "def solve(P1, P2):\n",
    "    played = set()\n",
    "    while P1 and P2 and (tuple(P1), tuple(P2)) not in played:\n",
    "        played.add((tuple(P1), tuple(P2)))\n",
    "        assert(P1[-1] != P2[-1])\n",
    "        while P1[-1] <= len(P1)-1 and P2[-1] <= len(P2)-1:\n",
    "            R1, R2 = solve(deque(tuple(P1)[-P1[-1]-1:-1]), deque(tuple(P2)[-P2[-1]-1:-1]))\n",
    "            if not R1:\n",
    "                P2.rotate()\n",
    "                P2.appendleft(P1.pop())\n",
    "            else:\n",
    "                P1.rotate()\n",
    "                P1.appendleft(P2.pop())\n",
    "        if P1[-1] < P2[-1]:\n",
    "            P2.rotate()\n",
    "            P2.appendleft(P1.pop())\n",
    "        else:\n",
    "            P1.rotate()\n",
    "            P1.appendleft(P2.pop())\n",
    "    return P1, P2\n",
    "\n",
    "with open ('input-22.txt') as f:\n",
    "    P1, P2 = deque(), deque()\n",
    "    assert(f.readline().strip() == 'Player 1:')\n",
    "    l = f.readline().strip()\n",
    "    while l:\n",
    "        P1.appendleft(int(l))\n",
    "        l = f.readline().strip()\n",
    "    assert(f.readline().strip() == 'Player 2:')\n",
    "    l = f.readline().strip()\n",
    "    while l:\n",
    "        P2.appendleft(int(l))\n",
    "        l = f.readline().strip()\n",
    "    solve(P1, P2)\n",
    "\n",
    "N = len(P1) + len(P2)\n",
    "sum((i+1)*v for v, i in zip(P1 if P1 else P2, range(N)))"
   ]
  },
  {
   "cell_type": "markdown",
   "metadata": {},
   "source": [
    "## Day 23"
   ]
  },
  {
   "cell_type": "code",
   "execution_count": 43,
   "metadata": {},
   "outputs": [
    {
     "data": {
      "text/plain": [
       "'45286397'"
      ]
     },
     "execution_count": 43,
     "metadata": {},
     "output_type": "execute_result"
    }
   ],
   "source": [
    "s = '389547612'\n",
    "d = {i: int(v) - 1 for i, v in enumerate(list(s))}\n",
    "ptr = 0\n",
    "for _ in range(100):\n",
    "    pick_up_keys = [j%9 for j in range(ptr+1, ptr+4)]\n",
    "    pick_up_values = [d[j] for j in pick_up_keys]\n",
    "    dest_value = (d[ptr]-1)%9\n",
    "    while dest_value in pick_up_values:\n",
    "        dest_value = (dest_value - 1)%9\n",
    "    p, q = (ptr + 1)%9, (ptr + 4)%9\n",
    "    while d[q] != dest_value:\n",
    "        d[p] = d[q]\n",
    "        p = (p + 1)%9\n",
    "        q = (q + 1)%9\n",
    "    d[p] = d[q]\n",
    "    d[(p+1)%9] = pick_up_values[0]\n",
    "    d[(p+2)%9] = pick_up_values[1]\n",
    "    d[(p+3)%9] = pick_up_values[2]\n",
    "    ptr = (ptr+1)%9\n",
    "a, b = ''.join(str(d[i]+1) for i in range(9)).split('1')\n",
    "b+a"
   ]
  },
  {
   "cell_type": "code",
   "execution_count": 6,
   "metadata": {},
   "outputs": [
    {
     "name": "stdout",
     "output_type": "stream",
     "text": [
      "{0: (8, 1), 1: (0, 2), 2: (1, 3), 3: (2, 4), 4: (3, 5), 5: (4, 6), 6: (5, 7), 7: (6, 8), 8: (7, 0)}\n",
      "123456789\n",
      "p 1\n",
      "tail, head 0 2\n",
      "v 2\n",
      "d[p] (0, 2)\n",
      "d[head] (2, 3)\n",
      "d[v] (1, 2)\n",
      "{0: (8, 1), 1: (0, 2), 2: (1, 2), 3: (2, 4), 4: (3, 5), 5: (4, 6), 6: (5, 7), 7: (6, 8), 8: (7, 0)}\n",
      "3\n",
      "p 2\n",
      "tail, head 1 2\n",
      "v 7\n",
      "d[p] (1, 7)\n",
      "d[head] (7, 7)\n",
      "d[v] (2, 2)\n",
      "{0: (8, 1), 1: (0, 2), 2: (7, 7), 3: (2, 4), 4: (3, 5), 5: (4, 6), 6: (5, 7), 7: (2, 2), 8: (7, 0)}\n",
      "38\n",
      "p 7\n",
      "tail, head 2 2\n",
      "v 8\n",
      "d[p] (2, 8)\n",
      "d[head] (8, 7)\n",
      "d[v] (7, 2)\n",
      "{0: (8, 1), 1: (0, 2), 2: (8, 7), 3: (2, 4), 4: (3, 5), 5: (4, 6), 6: (5, 7), 7: (2, 8), 8: (7, 2)}\n",
      "389\n",
      "p 8\n",
      "tail, head 7 2\n",
      "v 4\n",
      "d[p] (7, 4)\n",
      "d[head] (4, 7)\n",
      "d[v] (8, 2)\n",
      "{0: (8, 1), 1: (0, 2), 2: (4, 7), 3: (2, 4), 4: (8, 2), 5: (4, 6), 6: (5, 7), 7: (2, 8), 8: (7, 4)}\n",
      "3895\n",
      "p 4\n",
      "tail, head 8 2\n",
      "v 3\n",
      "d[p] (8, 3)\n",
      "d[head] (3, 7)\n",
      "d[v] (4, 2)\n",
      "{0: (8, 1), 1: (0, 2), 2: (3, 7), 3: (4, 2), 4: (8, 3), 5: (4, 6), 6: (5, 7), 7: (2, 8), 8: (7, 4)}\n",
      "38954\n",
      "p 3\n",
      "tail, head 4 2\n",
      "v 6\n",
      "d[p] (4, 6)\n",
      "d[head] (6, 7)\n",
      "d[v] (3, 2)\n",
      "{0: (8, 1), 1: (0, 2), 2: (6, 7), 3: (4, 6), 4: (8, 3), 5: (4, 6), 6: (3, 2), 7: (2, 8), 8: (7, 4)}\n",
      "389547\n",
      "p 6\n",
      "tail, head 3 2\n",
      "v 5\n",
      "d[p] (3, 5)\n",
      "d[head] (5, 7)\n",
      "d[v] (6, 2)\n",
      "{0: (8, 1), 1: (0, 2), 2: (5, 7), 3: (4, 6), 4: (8, 3), 5: (6, 2), 6: (3, 5), 7: (2, 8), 8: (7, 4)}\n",
      "3895476\n",
      "p 5\n",
      "tail, head 6 2\n",
      "v 0\n",
      "d[p] (6, 0)\n",
      "d[head] (0, 7)\n",
      "d[v] (5, 2)\n",
      "{0: (5, 2), 1: (0, 2), 2: (0, 7), 3: (4, 6), 4: (8, 3), 5: (6, 0), 6: (3, 5), 7: (2, 8), 8: (7, 4)}\n",
      "38954761\n",
      "p 0\n",
      "tail, head 5 2\n",
      "v 1\n",
      "d[p] (5, 1)\n",
      "d[head] (1, 7)\n",
      "d[v] (0, 2)\n",
      "{0: (5, 1), 1: (0, 2), 2: (1, 7), 3: (4, 6), 4: (8, 3), 5: (6, 0), 6: (3, 5), 7: (2, 8), 8: (7, 4)}\n",
      "389547612\n",
      "389547612\n",
      "476128953\n"
     ]
    }
   ],
   "source": [
    "def print_ll(d, c):\n",
    "    l = [c]\n",
    "    p = d[c][1]\n",
    "    while p != c:\n",
    "        l.append(p)\n",
    "        p = d[p][1]\n",
    "    print(''.join(str(v+1) for v in l))\n",
    "\n",
    "s = '389547612'\n",
    "M = len(s)\n",
    "d = {i:((i-1)%M,(i+1)%M) for i in range(M)}\n",
    "p = int(s[-1]) - 1\n",
    "print(d)\n",
    "print_ll(d, 0)\n",
    "for c in s:\n",
    "    print('p', p)\n",
    "    tail, head = d[p]\n",
    "    print('tail, head', tail, head)\n",
    "    v = int(c) - 1\n",
    "    print('v', v)\n",
    "    d[p] = (tail, v)\n",
    "    print('d[p]', d[p])\n",
    "    d[head] = (v, d[head][1])\n",
    "    print('d[head]', d[head])\n",
    "    d[v] = (p,head)\n",
    "    print('d[v]', d[v])\n",
    "    p = v\n",
    "    print(d)\n",
    "    print_ll(d, current)\n",
    "current = int(s[0]) - 1\n",
    "print_ll(d, current)\n",
    "for _ in range(1):\n",
    "    a = d[current][1]\n",
    "    b = d[a][1]\n",
    "    c = d[b][1]\n",
    "    destination = (current-1)%M\n",
    "    while destination in (a,b,c):\n",
    "        destination = (destination - 1)%M\n",
    "    d[current] = (d[current][0], d[c][1])\n",
    "    tail, head = d[destination]\n",
    "    d[destination] = (tail, a)\n",
    "    d[c] = (b, head)\n",
    "    current = d[current][1]\n",
    "    print_ll(d, current)"
   ]
  },
  {
   "cell_type": "code",
   "execution_count": 7,
   "metadata": {},
   "outputs": [
    {
     "name": "stdout",
     "output_type": "stream",
     "text": [
      "123456789\n"
     ]
    },
    {
     "ename": "KeyboardInterrupt",
     "evalue": "",
     "output_type": "error",
     "traceback": [
      "\u001b[0;31m---------------------------------------------------------------------------\u001b[0m",
      "\u001b[0;31mKeyboardInterrupt\u001b[0m                         Traceback (most recent call last)",
      "\u001b[0;32m<ipython-input-7-677c744b93c5>\u001b[0m in \u001b[0;36m<module>\u001b[0;34m()\u001b[0m\n\u001b[1;32m     20\u001b[0m     \u001b[0md\u001b[0m\u001b[0;34m[\u001b[0m\u001b[0mv\u001b[0m\u001b[0;34m]\u001b[0m \u001b[0;34m=\u001b[0m \u001b[0;34m(\u001b[0m\u001b[0mp\u001b[0m\u001b[0;34m,\u001b[0m\u001b[0mhead\u001b[0m\u001b[0;34m)\u001b[0m\u001b[0;34m\u001b[0m\u001b[0;34m\u001b[0m\u001b[0m\n\u001b[1;32m     21\u001b[0m     \u001b[0mp\u001b[0m \u001b[0;34m=\u001b[0m \u001b[0mv\u001b[0m\u001b[0;34m\u001b[0m\u001b[0;34m\u001b[0m\u001b[0m\n\u001b[0;32m---> 22\u001b[0;31m \u001b[0mprint_ll\u001b[0m\u001b[0;34m(\u001b[0m\u001b[0md\u001b[0m\u001b[0;34m,\u001b[0m \u001b[0mcurrent\u001b[0m\u001b[0;34m)\u001b[0m\u001b[0;34m\u001b[0m\u001b[0;34m\u001b[0m\u001b[0m\n\u001b[0m\u001b[1;32m     23\u001b[0m \u001b[0;32mfor\u001b[0m \u001b[0m_\u001b[0m \u001b[0;32min\u001b[0m \u001b[0mrange\u001b[0m\u001b[0;34m(\u001b[0m\u001b[0;36m10\u001b[0m\u001b[0;34m)\u001b[0m\u001b[0;34m:\u001b[0m\u001b[0;34m\u001b[0m\u001b[0;34m\u001b[0m\u001b[0m\n\u001b[1;32m     24\u001b[0m     \u001b[0ma\u001b[0m \u001b[0;34m=\u001b[0m \u001b[0md\u001b[0m\u001b[0;34m[\u001b[0m\u001b[0mcurrent\u001b[0m\u001b[0;34m]\u001b[0m\u001b[0;34m[\u001b[0m\u001b[0;36m1\u001b[0m\u001b[0;34m]\u001b[0m\u001b[0;34m\u001b[0m\u001b[0;34m\u001b[0m\u001b[0m\n",
      "\u001b[0;32m<ipython-input-7-677c744b93c5>\u001b[0m in \u001b[0;36mprint_ll\u001b[0;34m(d, c)\u001b[0m\n\u001b[1;32m      4\u001b[0m     \u001b[0;32mwhile\u001b[0m \u001b[0mp\u001b[0m \u001b[0;34m!=\u001b[0m \u001b[0mc\u001b[0m\u001b[0;34m:\u001b[0m\u001b[0;34m\u001b[0m\u001b[0;34m\u001b[0m\u001b[0m\n\u001b[1;32m      5\u001b[0m         \u001b[0ml\u001b[0m\u001b[0;34m.\u001b[0m\u001b[0mappend\u001b[0m\u001b[0;34m(\u001b[0m\u001b[0mp\u001b[0m\u001b[0;34m)\u001b[0m\u001b[0;34m\u001b[0m\u001b[0;34m\u001b[0m\u001b[0m\n\u001b[0;32m----> 6\u001b[0;31m         \u001b[0mp\u001b[0m \u001b[0;34m=\u001b[0m \u001b[0md\u001b[0m\u001b[0;34m[\u001b[0m\u001b[0mp\u001b[0m\u001b[0;34m]\u001b[0m\u001b[0;34m[\u001b[0m\u001b[0;36m1\u001b[0m\u001b[0;34m]\u001b[0m\u001b[0;34m\u001b[0m\u001b[0;34m\u001b[0m\u001b[0m\n\u001b[0m\u001b[1;32m      7\u001b[0m     \u001b[0mprint\u001b[0m\u001b[0;34m(\u001b[0m\u001b[0;34m''\u001b[0m\u001b[0;34m.\u001b[0m\u001b[0mjoin\u001b[0m\u001b[0;34m(\u001b[0m\u001b[0mstr\u001b[0m\u001b[0;34m(\u001b[0m\u001b[0mv\u001b[0m\u001b[0;34m+\u001b[0m\u001b[0;36m1\u001b[0m\u001b[0;34m)\u001b[0m \u001b[0;32mfor\u001b[0m \u001b[0mv\u001b[0m \u001b[0;32min\u001b[0m \u001b[0ml\u001b[0m\u001b[0;34m)\u001b[0m\u001b[0;34m)\u001b[0m\u001b[0;34m\u001b[0m\u001b[0;34m\u001b[0m\u001b[0m\n\u001b[1;32m      8\u001b[0m \u001b[0;34m\u001b[0m\u001b[0m\n",
      "\u001b[0;31mKeyboardInterrupt\u001b[0m: "
     ]
    }
   ],
   "source": [
    "def print_ll(d, c):\n",
    "    l = [c]\n",
    "    p = d[c][1]\n",
    "    while p != c:\n",
    "        l.append(p)\n",
    "        p = d[p][1]\n",
    "    print(''.join(str(v+1) for v in l))\n",
    "\n",
    "s = '389125467'\n",
    "M = len(s)\n",
    "d = {i:((i-1)%M,(i+1)%M) for i in range(M)}\n",
    "print_ll(d, 0)\n",
    "p = int(s[-1]) - 1\n",
    "current = int(s[0]) - 1\n",
    "for c in s:\n",
    "    v = int(c) - 1\n",
    "    tail, head = d[p]\n",
    "    d[p] = (tail, v)\n",
    "    d[head] = (v, d[head][1])\n",
    "    d[v] = (p,head)\n",
    "    p = v\n",
    "print_ll(d, current)\n",
    "for _ in range(10):\n",
    "    a = d[current][1]\n",
    "    b = d[a][1]\n",
    "    c = d[b][1]\n",
    "    destination = (current-1)%M\n",
    "    while destination in (a,b,c):\n",
    "        destination = (destination - 1)%M\n",
    "    d[current] = (d[current][0], d[c][1])\n",
    "    tail, head = d[destination]\n",
    "    d[destination] = (tail, a)\n",
    "    d[c] = (b, head)\n",
    "    current = d[current][1]\n",
    "print_ll(d, current)"
   ]
  }
 ],
 "metadata": {
  "kernelspec": {
   "display_name": "Python 3",
   "language": "python",
   "name": "python3"
  },
  "language_info": {
   "codemirror_mode": {
    "name": "ipython",
    "version": 3
   },
   "file_extension": ".py",
   "mimetype": "text/x-python",
   "name": "python",
   "nbconvert_exporter": "python",
   "pygments_lexer": "ipython3",
   "version": "3.6.9"
  }
 },
 "nbformat": 4,
 "nbformat_minor": 2
}
